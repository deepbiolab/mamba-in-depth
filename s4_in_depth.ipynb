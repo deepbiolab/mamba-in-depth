{
 "cells": [
  {
   "cell_type": "code",
   "execution_count": 50,
   "metadata": {},
   "outputs": [],
   "source": [
    "import os\n",
    "from functools import partial\n",
    "import jax\n",
    "import jax.numpy as np\n",
    "from flax import linen as nn\n",
    "from jax.nn.initializers import lecun_normal, normal\n",
    "from jax.numpy.linalg import eigh, inv, matrix_power\n",
    "from jax.scipy.signal import convolve"
   ]
  },
  {
   "cell_type": "code",
   "execution_count": 51,
   "metadata": {},
   "outputs": [],
   "source": [
    "rng = jax.random.PRNGKey(1)"
   ]
  },
  {
   "cell_type": "markdown",
   "metadata": {},
   "source": [
    "## Part 1: State Space Models"
   ]
  },
  {
   "cell_type": "code",
   "execution_count": 52,
   "metadata": {},
   "outputs": [],
   "source": [
    "def random_SSM(rng, N):\n",
    "    a_r, b_r, c_r = jax.random.split(rng, 3)\n",
    "    A = jax.random.uniform(a_r, (N, N))\n",
    "    B = jax.random.uniform(b_r, (N, 1))\n",
    "    C = jax.random.uniform(c_r, (1, N))\n",
    "    return A, B, C"
   ]
  },
  {
   "cell_type": "code",
   "execution_count": 53,
   "metadata": {},
   "outputs": [
    {
     "name": "stdout",
     "output_type": "stream",
     "text": [
      "A shape: (3, 3)\n",
      "B shape: (3, 1)\n",
      "C shape: (1, 3)\n"
     ]
    }
   ],
   "source": [
    "A, B, C = random_SSM(rng, 3)\n",
    "print(\"A shape:\", A.shape)\n",
    "print(\"B shape:\", B.shape)\n",
    "print(\"C shape:\", C.shape)"
   ]
  },
  {
   "cell_type": "markdown",
   "metadata": {},
   "source": [
    "### Discrete-time SSM: The Recurrent Representation"
   ]
  },
  {
   "cell_type": "code",
   "execution_count": 54,
   "metadata": {},
   "outputs": [],
   "source": [
    "def discretize(A, B, C, step):\n",
    "    I = np.eye(A.shape[0])\n",
    "    BL = inv(I - (step / 2.0) * A)\n",
    "    Ab = BL @ (I + (step / 2.0) * A)\n",
    "    Bb = (BL * step) @ B\n",
    "    return Ab, Bb, C"
   ]
  },
  {
   "cell_type": "code",
   "execution_count": 55,
   "metadata": {},
   "outputs": [
    {
     "name": "stdout",
     "output_type": "stream",
     "text": [
      "Ab shape: (3, 3)\n",
      "Bb shape: (3, 1)\n",
      "C shape: (1, 3)\n"
     ]
    }
   ],
   "source": [
    "Ab, Bb, C = discretize(A, B, C, 0.1)\n",
    "print(\"Ab shape:\", Ab.shape)\n",
    "print(\"Bb shape:\", Bb.shape)\n",
    "print(\"C shape:\",  C.shape)"
   ]
  },
  {
   "cell_type": "code",
   "execution_count": 56,
   "metadata": {},
   "outputs": [],
   "source": [
    "def scan_SSM(Ab, Bb, Cb, u, x0):\n",
    "    def step(x_k_1, u_k):\n",
    "        x_k = Ab @ x_k_1 + Bb @ u_k\n",
    "        y_k = Cb @ x_k\n",
    "        return x_k, y_k\n",
    "\n",
    "    return jax.lax.scan(step, x0, u)"
   ]
  },
  {
   "cell_type": "code",
   "execution_count": 57,
   "metadata": {},
   "outputs": [
    {
     "name": "stdout",
     "output_type": "stream",
     "text": [
      "x shape: (3,)\n",
      "y shape: (10, 1)\n"
     ]
    }
   ],
   "source": [
    "u = np.ones((10, 1))\n",
    "x0 = np.zeros((3,))\n",
    "x, y = scan_SSM(Ab, Bb, C, u, x0)\n",
    "print(\"x shape:\", x.shape)\n",
    "print(\"y shape:\", y.shape)"
   ]
  },
  {
   "cell_type": "code",
   "execution_count": 58,
   "metadata": {},
   "outputs": [],
   "source": [
    "def run_SSM(A, B, C, u):\n",
    "    \"\"\"\n",
    "    Run a State Space Model (SSM).\n",
    "    \n",
    "    Parameters:\n",
    "        A: Continuous-time state matrix (NxN)\n",
    "        B: Continuous-time input matrix (Nx1)\n",
    "        C: Output matrix (1xN)\n",
    "        u: Input signal (L-dimensional vector)\n",
    "    \n",
    "    Returns:\n",
    "        The output of the state space model after running.\n",
    "    \"\"\"\n",
    "    L = u.shape[0]\n",
    "    N = A.shape[0]\n",
    "    \n",
    "    # Discretize the continuous-time state space model (A, B, C)\n",
    "    # step is the discretization step size, set to 1.0 / L here\n",
    "    Ab, Bb, Cb = discretize(A, B, C, step=1.0 / L)\n",
    "    \n",
    "    # Run the recursive computation of the state space model\n",
    "    # Initial state is set to zero vector np.zeros((N,))\n",
    "    # scan_SSM returns two values, we only take the second one which is the model output\n",
    "    return scan_SSM(Ab, Bb, Cb, u[:, np.newaxis], np.zeros((N,)))[1]"
   ]
  },
  {
   "cell_type": "code",
   "execution_count": 59,
   "metadata": {},
   "outputs": [
    {
     "name": "stdout",
     "output_type": "stream",
     "text": [
      "y shape: (10, 1)\n"
     ]
    }
   ],
   "source": [
    "u = np.ones((10,))\n",
    "y = run_SSM(A, B, C, u)\n",
    "print(\"y shape:\", y.shape)"
   ]
  },
  {
   "cell_type": "markdown",
   "metadata": {},
   "source": [
    "### Tangent: A Mechanics Example"
   ]
  },
  {
   "cell_type": "code",
   "execution_count": 60,
   "metadata": {},
   "outputs": [],
   "source": [
    "def example_mass(k, b, m):\n",
    "    A = np.array([[0, 1], [-k / m, -b / m]])\n",
    "    B = np.array([[0], [1.0 / m]])\n",
    "    C = np.array([[1.0, 0]])\n",
    "    return A, B, C"
   ]
  },
  {
   "cell_type": "code",
   "execution_count": 61,
   "metadata": {},
   "outputs": [],
   "source": [
    "@partial(np.vectorize, signature=\"()->()\")\n",
    "def example_force(t):\n",
    "    x = np.sin(10 * t)\n",
    "    return x * (x > 0.5)"
   ]
  },
  {
   "cell_type": "code",
   "execution_count": 62,
   "metadata": {},
   "outputs": [],
   "source": [
    "def example_ssm():\n",
    "    # SSM\n",
    "    ssm = example_mass(k=40, b=5, m=1)\n",
    "\n",
    "    # L samples of u(t).\n",
    "    L = 100\n",
    "    step = 1.0 / L\n",
    "    ks = np.arange(L)\n",
    "    u = example_force(ks * step)\n",
    "\n",
    "    # Approximation of y(t).\n",
    "    y = run_SSM(*ssm, u)\n",
    "\n",
    "    # Plotting ---\n",
    "    import matplotlib.pyplot as plt\n",
    "    import seaborn\n",
    "    from celluloid import Camera\n",
    "\n",
    "    seaborn.set_context(\"paper\")\n",
    "    fig, (ax1, ax2, ax3) = plt.subplots(3)\n",
    "    camera = Camera(fig)\n",
    "    ax1.set_title(\"Force $u_k$\")\n",
    "    ax2.set_title(\"Position $y_k$\")\n",
    "    ax3.set_title(\"Object\")\n",
    "    ax1.set_xticks([], [])\n",
    "    ax2.set_xticks([], [])\n",
    "\n",
    "    # Animate plot over time\n",
    "    for k in range(0, L, 2):\n",
    "        ax1.plot(ks[:k], u[:k], color=\"red\")\n",
    "        ax2.plot(ks[:k], y[:k], color=\"blue\")\n",
    "        ax3.boxplot(\n",
    "            [[y[k, 0] - 0.04, y[k, 0], y[k, 0] + 0.04]],\n",
    "            showcaps=False,\n",
    "            whis=False,\n",
    "            vert=False,\n",
    "            widths=10,\n",
    "        )\n",
    "        camera.snap()\n",
    "    anim = camera.animate()\n",
    "    os.makedirs('images', exist_ok=True)\n",
    "    anim.save(\"images/line.gif\", dpi=150, writer=\"Pillow\")"
   ]
  },
  {
   "cell_type": "code",
   "execution_count": 63,
   "metadata": {},
   "outputs": [
    {
     "name": "stderr",
     "output_type": "stream",
     "text": [
      "MovieWriter Pillow unavailable; using Pillow instead.\n"
     ]
    },
    {
     "data": {
      "image/png": "[encoded data removed]",
      "text/plain": [
       "<Figure size 640x480 with 3 Axes>"
      ]
     },
     "metadata": {},
     "output_type": "display_data"
    }
   ],
   "source": [
    "example_ssm()"
   ]
  },
  {
   "cell_type": "markdown",
   "metadata": {},
   "source": [
    "### Training SSMs: The Convolutional Representation"
   ]
  },
  {
   "cell_type": "code",
   "execution_count": 64,
   "metadata": {},
   "outputs": [],
   "source": [
    "def K_conv(Ab, Bb, Cb, L):\n",
    "    return np.array(\n",
    "        [(Cb @ matrix_power(Ab, l) @ Bb).reshape() for l in range(L)]\n",
    "    )"
   ]
  },
  {
   "cell_type": "code",
   "execution_count": 65,
   "metadata": {},
   "outputs": [
    {
     "name": "stdout",
     "output_type": "stream",
     "text": [
      "K shape: (10,)\n"
     ]
    }
   ],
   "source": [
    "K = K_conv(Ab, Bb, C, L=10)\n",
    "print(\"K shape:\", K.shape)"
   ]
  },
  {
   "cell_type": "code",
   "execution_count": 66,
   "metadata": {},
   "outputs": [],
   "source": [
    "def causal_convolution(u, K, nofft=False):\n",
    "    if nofft:\n",
    "        return convolve(u, K, mode=\"full\")[: u.shape[0]]\n",
    "    else:\n",
    "        assert K.shape[0] == u.shape[0]\n",
    "        ud = np.fft.rfft(np.pad(u, (0, K.shape[0])))\n",
    "        Kd = np.fft.rfft(np.pad(K, (0, u.shape[0])))\n",
    "        out = ud * Kd\n",
    "        return np.fft.irfft(out)[: u.shape[0]]"
   ]
  },
  {
   "cell_type": "code",
   "execution_count": 67,
   "metadata": {},
   "outputs": [
    {
     "name": "stdout",
     "output_type": "stream",
     "text": [
      "u1 shape: (10,)\n"
     ]
    }
   ],
   "source": [
    "u1 = causal_convolution(u, K, nofft=False)\n",
    "print(\"u1 shape:\", u1.shape)\n"
   ]
  },
  {
   "cell_type": "code",
   "execution_count": 68,
   "metadata": {},
   "outputs": [],
   "source": [
    "def test_cnn_is_rnn(N=4, L=16, step=1.0 / 16):\n",
    "    ssm = random_SSM(rng, N)\n",
    "    u = jax.random.uniform(rng, (L,))\n",
    "    jax.random.split(rng, 3)\n",
    "    \n",
    "    # RNN\n",
    "    rec = run_SSM(*ssm, u)\n",
    "\n",
    "    # CNN\n",
    "    ssmb = discretize(*ssm, step=step)\n",
    "    conv = causal_convolution(u, K_conv(*ssmb, L))\n",
    "\n",
    "    # Check\n",
    "    assert np.allclose(rec.ravel(), conv.ravel())"
   ]
  },
  {
   "cell_type": "code",
   "execution_count": 69,
   "metadata": {},
   "outputs": [],
   "source": [
    "test_cnn_is_rnn(N=4, L=16, step=1.0 / 16)"
   ]
  },
  {
   "cell_type": "markdown",
   "metadata": {},
   "source": [
    "### An SSM Neural Network"
   ]
  },
  {
   "cell_type": "code",
   "execution_count": 70,
   "metadata": {},
   "outputs": [],
   "source": [
    "def log_step_initializer(dt_min=0.001, dt_max=0.1):\n",
    "    def init(key, shape):\n",
    "        return jax.random.uniform(key, shape) * (\n",
    "            np.log(dt_max) - np.log(dt_min)\n",
    "        ) + np.log(dt_min)\n",
    "\n",
    "    return init"
   ]
  },
  {
   "cell_type": "code",
   "execution_count": 76,
   "metadata": {},
   "outputs": [],
   "source": [
    "class SSMLayer(nn.Module):\n",
    "    N: int\n",
    "    l_max: int\n",
    "    decode: bool = False\n",
    "\n",
    "    def setup(self):\n",
    "        # SSM parameters\n",
    "        self.A = self.param(\"A\", lecun_normal(), (self.N, self.N))\n",
    "        self.B = self.param(\"B\", lecun_normal(), (self.N, 1))\n",
    "        self.C = self.param(\"C\", lecun_normal(), (1, self.N))\n",
    "        self.D = self.param(\"D\", nn.initializers.ones, (1,))\n",
    "\n",
    "        # Step parameter\n",
    "        self.log_step = self.param(\"log_step\", log_step_initializer(), (1,))\n",
    "\n",
    "        step = np.exp(self.log_step)\n",
    "        self.ssm = discretize(self.A, self.B, self.C, step=step)\n",
    "        self.K = K_conv(*self.ssm, self.l_max)\n",
    "\n",
    "        # RNN cache for long sequences\n",
    "        self.x_k_1 = self.variable(\"cache\", \"cache_x_k\", np.zeros, (self.N,))\n",
    "\n",
    "    def __call__(self, u):\n",
    "        if not self.decode:\n",
    "            # CNN Mode\n",
    "            return causal_convolution(u, self.K) + self.D * u\n",
    "        else:\n",
    "            # RNN Mode\n",
    "            x_k, y_s = scan_SSM(*self.ssm, u[:, np.newaxis], self.x_k_1.value)\n",
    "            if self.is_mutable_collection(\"cache\"):\n",
    "                self.x_k_1.value = x_k\n",
    "            return y_s.reshape(-1).real + self.D * u"
   ]
  },
  {
   "cell_type": "code",
   "execution_count": 77,
   "metadata": {},
   "outputs": [
    {
     "name": "stdout",
     "output_type": "stream",
     "text": [
      "\n",
      "Initialized parameters:\n",
      "params:\n",
      "  A: shape (4, 4)\n",
      "  B: shape (4, 1)\n",
      "  C: shape (1, 4)\n",
      "  D: shape (1,)\n",
      "  log_step: shape (1,)\n",
      "cache:\n",
      "  cache_x_k: shape (4,)\n"
     ]
    }
   ],
   "source": [
    "# Initialize SSM layer\n",
    "N = 4\n",
    "L = 10\n",
    "ssm = SSMLayer(N=N, l_max=L)\n",
    "\n",
    "# Initialize parameters with a random key\n",
    "key = jax.random.PRNGKey(0)\n",
    "params = ssm.init(key, u)\n",
    "\n",
    "print(\"\\nInitialized parameters:\")\n",
    "for key, value in params.items():\n",
    "    print(f\"{key}:\")\n",
    "    for param_name, param_value in value.items():\n",
    "        print(f\"  {param_name}: shape {param_value.shape}\")"
   ]
  },
  {
   "cell_type": "code",
   "execution_count": 78,
   "metadata": {},
   "outputs": [
    {
     "name": "stdout",
     "output_type": "stream",
     "text": [
      "\n",
      "CNN mode output:\n",
      " [0.991806   0.98362285 0.97545004 0.9672872  0.9591337  0.9509891\n",
      " 0.9428531  0.93472517 0.92660487 0.9184918 ]\n",
      "Output shape: (10,)\n",
      "\n",
      "RNN mode output:\n",
      " [0.991806   0.98362285 0.97545004 0.9672872  0.9591337  0.9509891\n",
      " 0.9428531  0.9347251  0.9266048  0.9184917 ]\n",
      "Output shape: (10,)\n"
     ]
    }
   ],
   "source": [
    "# Forward pass in CNN mode (decode=False)\n",
    "output_cnn = ssm.apply(params, u)\n",
    "print(\"\\nCNN mode output:\\n\", output_cnn)\n",
    "print(\"Output shape:\", output_cnn.shape)\n",
    "\n",
    "# Forward pass in RNN mode (decode=True)\n",
    "ssm_rnn = SSMLayer(N=N, l_max=L, decode=True)\n",
    "output_rnn = ssm_rnn.apply(params, u)\n",
    "print(\"\\nRNN mode output:\\n\", output_rnn)\n",
    "print(\"Output shape:\", output_rnn.shape)"
   ]
  },
  {
   "cell_type": "code",
   "execution_count": 79,
   "metadata": {},
   "outputs": [],
   "source": [
    "def cloneLayer(layer):\n",
    "    return nn.vmap(\n",
    "        layer,\n",
    "        in_axes=1,\n",
    "        out_axes=1,\n",
    "        variable_axes={\"params\": 1, \"cache\": 1, \"prime\": 1},\n",
    "        split_rngs={\"params\": True},\n",
    "    )\n",
    "SSMLayer = cloneLayer(SSMLayer)"
   ]
  },
  {
   "cell_type": "code",
   "execution_count": 80,
   "metadata": {},
   "outputs": [],
   "source": [
    "class SequenceBlock(nn.Module):\n",
    "    layer_cls: nn.Module\n",
    "    layer: dict  # Hyperparameters of inner layer\n",
    "    dropout: float\n",
    "    d_model: int\n",
    "    prenorm: bool = True\n",
    "    glu: bool = True\n",
    "    training: bool = True\n",
    "    decode: bool = False\n",
    "\n",
    "    def setup(self):\n",
    "        self.seq = self.layer_cls(**self.layer, decode=self.decode)\n",
    "        self.norm = nn.LayerNorm()\n",
    "        self.out = nn.Dense(self.d_model)\n",
    "        if self.glu:\n",
    "            self.out2 = nn.Dense(self.d_model)\n",
    "        self.drop = nn.Dropout(\n",
    "            self.dropout,\n",
    "            broadcast_dims=[0],\n",
    "            deterministic=not self.training,\n",
    "        )\n",
    "\n",
    "    def __call__(self, x):\n",
    "        skip = x\n",
    "        if self.prenorm:\n",
    "            x = self.norm(x)\n",
    "        x = self.seq(x)\n",
    "        x = self.drop(nn.gelu(x))\n",
    "        if self.glu:\n",
    "            x = self.out(x) * jax.nn.sigmoid(self.out2(x))\n",
    "        else:\n",
    "            x = self.out(x)\n",
    "        x = skip + self.drop(x)\n",
    "        if not self.prenorm:\n",
    "            x = self.norm(x)\n",
    "        return x"
   ]
  },
  {
   "cell_type": "code",
   "execution_count": 90,
   "metadata": {},
   "outputs": [],
   "source": [
    "class Embedding(nn.Embed):\n",
    "    num_embeddings: int     # Vocabulary size\n",
    "    features: int           # Embedding dimension\n",
    "\n",
    "    @nn.compact\n",
    "    def __call__(self, x):\n",
    "        y = nn.Embed(self.num_embeddings, self.features)(x[..., 0])\n",
    "        return np.where(x > 0, y, 0.0)\n",
    "\n",
    "class StackedModel(nn.Module):\n",
    "    layer_cls: nn.Module    # Layer class to use (e.g., SSMLayer)\n",
    "    layer: dict             # Layer configuration parameters\n",
    "    d_output: int           # Output dimension (e.g., vocab size)\n",
    "    d_model: int            # Model hidden dimension\n",
    "    n_layers: int           # Number of layers to stack\n",
    "    prenorm: bool = True    # Whether to apply normalization before layer\n",
    "    dropout: float = 0.0    # Dropout rate\n",
    "    embedding: bool = False # Whether to use embedding or dense layer for encoding\n",
    "    classification: bool = False\n",
    "    training: bool = True\n",
    "    decode: bool = False    # Decoding mode flag (for autoregressive generation)\n",
    "\n",
    "    def setup(self):\n",
    "        # Input encoder\n",
    "        if self.embedding:\n",
    "            # For discrete inputs (e.g., tokens)\n",
    "            self.encoder = Embedding(self.d_output, self.d_model)\n",
    "        else:\n",
    "            # For continuous inputs\n",
    "            self.encoder = nn.Dense(self.d_model)\n",
    "        \n",
    "        # Output decoder\n",
    "        self.decoder = nn.Dense(self.d_output)\n",
    "        \n",
    "        # Stack of sequence processing layers\n",
    "        self.layers = [\n",
    "            SequenceBlock(\n",
    "                layer_cls=self.layer_cls,\n",
    "                layer=self.layer,\n",
    "                prenorm=self.prenorm,\n",
    "                d_model=self.d_model,\n",
    "                dropout=self.dropout,\n",
    "                training=self.training,\n",
    "                decode=self.decode,\n",
    "            )\n",
    "            for _ in range(self.n_layers)\n",
    "        ]\n",
    "\n",
    "    def __call__(self, x):\n",
    "        if not self.classification:\n",
    "            if not self.embedding:\n",
    "                # Normalize pixel values for image data\n",
    "                x = x / 255.0\n",
    "            if not self.decode:\n",
    "                x = np.pad(x[:-1], [(1, 0), (0, 0)])\n",
    "        \n",
    "        # Encode input\n",
    "        x = self.encoder(x)\n",
    "        \n",
    "        # Process through layers\n",
    "        for layer in self.layers:\n",
    "            x = layer(x)\n",
    "        \n",
    "        if self.classification:\n",
    "            # Global average pooling for classification\n",
    "            x = np.mean(x, axis=0)\n",
    "        \n",
    "        # Decode to output dimension\n",
    "        x = self.decoder(x)\n",
    "\n",
    "        # Apply log softmax for probability distribution\n",
    "        return nn.log_softmax(x, axis=-1)"
   ]
  },
  {
   "cell_type": "code",
   "execution_count": 92,
   "metadata": {},
   "outputs": [],
   "source": [
    "BatchStackedModel = nn.vmap(\n",
    "    StackedModel,\n",
    "    in_axes=0,\n",
    "    out_axes=0,\n",
    "    variable_axes={\"params\": None, \"dropout\": None, \"cache\": 0, \"prime\": None},\n",
    "    split_rngs={\"params\": False, \"dropout\": True},\n",
    ")"
   ]
  },
  {
   "cell_type": "code",
   "execution_count": null,
   "metadata": {},
   "outputs": [
    {
     "name": "stdout",
     "output_type": "stream",
     "text": [
      "=== Input Tensor ===\n",
      "Shape: (2, 3, 2)\n",
      "\n",
      "=== Output Tensor ===\n",
      "Shape: (2, 3, 3)\n"
     ]
    },
    {
     "ename": "",
     "evalue": "",
     "output_type": "error",
     "traceback": [
      "\u001b[1;31mThe Kernel crashed while executing code in the current cell or a previous cell. \n",
      "\u001b[1;31mPlease review the code in the cell(s) to identify a possible cause of the failure. \n",
      "\u001b[1;31mClick <a href='https://aka.ms/vscodeJupyterKernelCrash'>here</a> for more info. \n",
      "\u001b[1;31mView Jupyter <a href='command:jupyter.viewOutput'>log</a> for further details."
     ]
    }
   ],
   "source": [
    "def test_batch_stacked_model():\n",
    "    B = 2 # Batch size\n",
    "    T = 3 # Sequence length\n",
    "    C = 2 # Input dimension\n",
    "    O = 3 # Output dimension\n",
    "    x = np.ones((B, T, C))\n",
    "    \n",
    "    print(\"=== Input Tensor ===\")\n",
    "    print(\"Shape:\", x.shape)\n",
    "\n",
    "    # Initialize BatchStackedModel\n",
    "    N = 4                              # State dimension\n",
    "    \n",
    "    model = BatchStackedModel(\n",
    "        layer_cls=SSMLayer,\n",
    "        layer={\"N\": N, \"l_max\": T},    # SSM config\n",
    "        d_output=O,                    # Output dimension\n",
    "        d_model=N,                     # Hidden dimension\n",
    "        n_layers=2,                    # Number of layers\n",
    "        embedding=False                # Use dense layer\n",
    "    )\n",
    "    \n",
    "    # Initialize parameters\n",
    "    key = jax.random.PRNGKey(0)\n",
    "    params = model.init(key, x)\n",
    "    \n",
    "    # Forward pass\n",
    "    output = model.apply(params, x)\n",
    "    \n",
    "    print(\"\\n=== Output Tensor ===\")\n",
    "    print(\"Shape:\", output.shape)\n",
    "\n",
    "# Run test\n",
    "test_batch_stacked_model()"
   ]
  },
  {
   "cell_type": "code",
   "execution_count": null,
   "metadata": {},
   "outputs": [],
   "source": []
  }
 ],
 "metadata": {
  "kernelspec": {
   "display_name": "jax-cpu",
   "language": "python",
   "name": "python3"
  },
  "language_info": {
   "codemirror_mode": {
    "name": "ipython",
    "version": 3
   },
   "file_extension": ".py",
   "mimetype": "text/x-python",
   "name": "python",
   "nbconvert_exporter": "python",
   "pygments_lexer": "ipython3",
   "version": "3.10.16"
  }
 },
 "nbformat": 4,
 "nbformat_minor": 2
}
